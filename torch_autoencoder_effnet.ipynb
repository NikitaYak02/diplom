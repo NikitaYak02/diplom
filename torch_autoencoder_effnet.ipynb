{
 "cells": [
  {
   "cell_type": "code",
   "execution_count": 1,
   "metadata": {},
   "outputs": [
    {
     "name": "stdout",
     "output_type": "stream",
     "text": [
      "psimage tile cache size was set up to 300 tiles\n"
     ]
    }
   ],
   "source": [
    "import numpy as np\n",
    "import torch.nn as nn\n",
    "import torch\n",
    "from psimage import PSImage\n",
    "import torch.utils.data as data\n",
    "from torchvision.transforms import transforms\n",
    "import matplotlib.pyplot as plt\n",
    "from torchsummary import summary\n",
    "import wandb\n",
    "import logging\n",
    "from pathlib import Path\n",
    "from torch import optim\n",
    "from datetime import datetime\n",
    "from tqdm import tqdm\n",
    "from PIL import Image\n",
    "import gc"
   ]
  },
  {
   "cell_type": "code",
   "execution_count": 2,
   "metadata": {},
   "outputs": [],
   "source": [
    "import time"
   ]
  },
  {
   "cell_type": "code",
   "execution_count": 3,
   "metadata": {},
   "outputs": [],
   "source": [
    "from nets_parts.SegNet_torch import SegNet"
   ]
  },
  {
   "cell_type": "code",
   "execution_count": 4,
   "metadata": {},
   "outputs": [
    {
     "data": {
      "text/plain": [
       "True"
      ]
     },
     "execution_count": 4,
     "metadata": {},
     "output_type": "execute_result"
    }
   ],
   "source": [
    "torch.cuda.is_available()"
   ]
  },
  {
   "cell_type": "code",
   "execution_count": 5,
   "metadata": {},
   "outputs": [],
   "source": [
    "device = torch.device('cuda:1')"
   ]
  },
  {
   "cell_type": "code",
   "execution_count": 6,
   "metadata": {},
   "outputs": [],
   "source": [
    "patch_on_epoch = 4000\n",
    "patch_on_epoch_valid = 128\n",
    "layer_num = 1\n",
    "patch_size = 256\n",
    "batch_size = 32"
   ]
  },
  {
   "cell_type": "code",
   "execution_count": 7,
   "metadata": {},
   "outputs": [],
   "source": [
    "from nets_parts.path_to_psi import train_files, train_files_json, valid_files, valid_files_json, test_files, test_files_json"
   ]
  },
  {
   "cell_type": "code",
   "execution_count": 8,
   "metadata": {},
   "outputs": [],
   "source": [
    "class ImageDataset(data.Dataset):\n",
    "    def __init__(self, paths: list[str], layer_num: int, patch_size: int, \n",
    "                 batch_size: int, patch_on_epoch: int, transforms, device):\n",
    "        self.psi_images = [PSImage(i) for i in paths]\n",
    "        self.layer_num = layer_num\n",
    "        self.patch_size = patch_size\n",
    "        self.batch_size = batch_size\n",
    "        self.patch_on_epoch = patch_on_epoch\n",
    "        self.transforms = transforms\n",
    "        self.device = device\n",
    "        self.img_num_to_slice = min(3, len(paths))\n",
    "        self.imgs_slice = []\n",
    "        self.indexes = [i for i in range(len(self.psi_images))]\n",
    "        self.index_chose = []\n",
    "        for i in range(self.img_num_to_slice):\n",
    "            self.add_one_slice()\n",
    "        \n",
    "    def __getitem__(self, index):\n",
    "        if index % 200 == 0:\n",
    "            self.remove_one_slice()\n",
    "            self.add_one_slice()\n",
    "        cycle_iters = 0\n",
    "        while True:\n",
    "            cycle_iters += 1\n",
    "            img_ind = np.random.randint(self.img_num_to_slice)\n",
    "            # left_top_corner\n",
    "            w, h = self.imgs_slice[img_ind].shape[:2]\n",
    "            lt_c = np.random.randint(0, [w - self.patch_size, h - self.patch_size])\n",
    "            img = self.imgs_slice[img_ind][lt_c[0]: lt_c[0] + self.patch_size, lt_c[1] : lt_c[1] + self.patch_size]\n",
    "            img = torch.tensor(img.astype(np.float32))\n",
    "            if cycle_iters % 4 == 0 :\n",
    "                self.remove_one_slice()\n",
    "                self.add_one_slice()\n",
    "            if img.mean() < 0.9 or cycle_iters > 15:\n",
    "                img = self.transforms(img)\n",
    "                img = transforms.ToTensor()(np.array(img))\n",
    "                img = img.to(device)\n",
    "                break\n",
    "\n",
    "        return img, img\n",
    "\n",
    "    def __len__(self):\n",
    "        return self.patch_on_epoch\n",
    "\n",
    "    def remove_one_slice(self):\n",
    "        # remove element from index list, slice list\n",
    "        pos_img_ind = np.random.randint(len(self.imgs_slice))\n",
    "        img_ind = self.index_chose.pop(pos_img_ind)\n",
    "        self.imgs_slice.pop(pos_img_ind)\n",
    "        self.indexes.append(img_ind)\n",
    "    \n",
    "    def add_one_slice(self):\n",
    "        while True:\n",
    "            #slice\n",
    "            pos_img_ind = np.random.randint(len(self.indexes))\n",
    "            img_ind = self.indexes.pop(pos_img_ind)\n",
    "            self.index_chose.append(img_ind)\n",
    "            slice_size_h = self.psi_images[img_ind].layout.img_h //self.layer_num // 10 * 1\n",
    "            h = self.psi_images[img_ind].layout.img_h //self.layer_num - slice_size_h\n",
    "            slice_size_w = self.psi_images[img_ind].layout.img_w //self.layer_num // 10 * 1\n",
    "            w = self.psi_images[img_ind].layout.img_w //self.layer_num - slice_size_w\n",
    "            # left_top_corner\n",
    "            lt_c = np.random.randint(0, [h, w])\n",
    "            cur_slice = self.psi_images[img_ind].get_region_from_layer(\n",
    "                self.layer_num, (lt_c[0], lt_c[1]), (lt_c[0] + slice_size_h, lt_c[1] + slice_size_w)\n",
    "            ) / 255\n",
    "            if cur_slice.mean() < 0.85:\n",
    "                self.imgs_slice.append(cur_slice)\n",
    "                break\n",
    "            self.indexes.append(img_ind)\n",
    "            self.index_chose.pop()\n",
    "\n",
    "\n",
    "def train_loader_creator(train_list: list[str], patch_on_epoch: int = 1800, layer_num: int = 1, \n",
    "                         patch_size:int = 1024, batch_size: int = 16, device = 'cpu'):\n",
    "\n",
    "    # [NO] do not use normalize here cause it's very hard to converge\n",
    "    # [NO] do not use colorjitter cause it lead to performance drop in both train set and val set\n",
    "\n",
    "    # [?] guassian blur will lead to a significantly drop in train loss while val loss remain the same\n",
    "    augmentation = [\n",
    "        transforms.GaussianBlur(5, sigma=(0.1, 2.0)),\n",
    "        transforms.RandomHorizontalFlip()\n",
    "    ]\n",
    "\n",
    "    train_trans = transforms.Compose(augmentation)\n",
    "    train_dataset = ImageDataset(paths=train_list, layer_num=layer_num, patch_size=patch_size, \n",
    "                 batch_size=batch_size, patch_on_epoch=patch_on_epoch, transforms=train_trans,\n",
    "                 device=device)\n",
    "\n",
    "    train_loader = torch.utils.data.DataLoader(\n",
    "                    train_dataset,\n",
    "                    shuffle=False,\n",
    "                    batch_size=batch_size,\n",
    "                    num_workers=0)\n",
    "\n",
    "    return train_loader"
   ]
  },
  {
   "cell_type": "code",
   "execution_count": 9,
   "metadata": {},
   "outputs": [],
   "source": [
    "train_loader = train_loader_creator(train_list=train_files, patch_on_epoch=patch_on_epoch, \n",
    "                                    layer_num=layer_num, patch_size=patch_size, \n",
    "                                    batch_size=batch_size, device=\"cuda:1\")"
   ]
  },
  {
   "cell_type": "code",
   "execution_count": 10,
   "metadata": {},
   "outputs": [],
   "source": [
    "valid_loader = train_loader_creator(train_list=valid_files, patch_on_epoch=patch_on_epoch_valid, \n",
    "                                    layer_num=layer_num, patch_size=patch_size, batch_size=batch_size, device=\"cuda:1\")"
   ]
  },
  {
   "cell_type": "code",
   "execution_count": 11,
   "metadata": {},
   "outputs": [],
   "source": [
    "import torch\n",
    "import torch.nn as nn\n",
    "from efficientnet_pytorch import EfficientNet\n",
    "\n",
    "class AutoEncoder(nn.Module):\n",
    "    def __init__(self, encoder_name='efficientnet-b2'):\n",
    "        super(AutoEncoder, self).__init__()\n",
    "        self.encoder = EfficientNet.from_name(encoder_name)\n",
    "        self.decoder = nn.Sequential(\n",
    "            nn.Conv2d(1408, 512, kernel_size=3, padding=1, padding_mode=\"reflect\"),\n",
    "            nn.BatchNorm2d(512),\n",
    "            nn.ReLU(True),\n",
    "\n",
    "            nn.ConvTranspose2d(512, 256, kernel_size=2, stride=2),\n",
    "            nn.BatchNorm2d(256),\n",
    "            nn.ReLU(True),\n",
    "            nn.Conv2d(256, 256, kernel_size=3, padding=1, padding_mode=\"reflect\"),\n",
    "            nn.BatchNorm2d(256),\n",
    "            nn.ReLU(inplace=True),\n",
    "\n",
    "            nn.ConvTranspose2d(256, 128, kernel_size=2, stride=2),\n",
    "            nn.BatchNorm2d(128),\n",
    "            nn.ReLU(True),\n",
    "            nn.Conv2d(128, 128, kernel_size=3, padding=1, padding_mode=\"reflect\"),\n",
    "            nn.BatchNorm2d(128),\n",
    "            nn.ReLU(inplace=True),\n",
    "\n",
    "            nn.ConvTranspose2d(128, 64, kernel_size=2, stride=2),\n",
    "            nn.BatchNorm2d(64),\n",
    "            nn.ReLU(True),\n",
    "            nn.Conv2d(64, 64, kernel_size=3, padding=1, padding_mode=\"reflect\"),\n",
    "            nn.BatchNorm2d(64),\n",
    "            nn.ReLU(inplace=True),\n",
    "\n",
    "            nn.ConvTranspose2d(64, 32, kernel_size=2, stride=2),\n",
    "            nn.BatchNorm2d(32),\n",
    "            nn.ReLU(True),\n",
    "            nn.Conv2d(32, 32, kernel_size=3, padding=1, padding_mode=\"reflect\"),\n",
    "            nn.BatchNorm2d(32),\n",
    "            nn.ReLU(inplace=True),\n",
    "\n",
    "            nn.ConvTranspose2d(32, 16, kernel_size=2, stride=2),\n",
    "            nn.BatchNorm2d(16),\n",
    "            nn.ReLU(True),\n",
    "            nn.Conv2d(16, 3, kernel_size=3, padding=1, padding_mode=\"reflect\"),\n",
    "            nn.Sigmoid()\n",
    "        )\n",
    "\n",
    "    def forward(self, x):\n",
    "        x = self.encoder.extract_features(x)\n",
    "        x = self.decoder(x)\n",
    "        return x\n",
    "\n",
    "    def freeze_encoder(self):\n",
    "        for param in self.encoder.parameters():\n",
    "            param.requires_grad = False\n",
    "\n",
    "    def unfreeze_encoder(self):\n",
    "        for param in self.encoder.parameters():\n",
    "            param.requires_grad = True\n",
    "\n",
    "# Создаем модель\n",
    "model = AutoEncoder().to(device)"
   ]
  },
  {
   "cell_type": "code",
   "execution_count": 12,
   "metadata": {},
   "outputs": [],
   "source": [
    "save_checkpoint = True\n",
    "dir_checkpoint = Path(\"./checkpoints_bn\")\n",
    "epochs = 60\n",
    "batch_size = 32\n",
    "learning_rate = 1e-3\n",
    "clipping_value = 1 # arbitrary value of your choosing\n",
    "weight_decay = 0\n",
    "epoch_to_start_sched = 10"
   ]
  },
  {
   "cell_type": "code",
   "execution_count": 13,
   "metadata": {},
   "outputs": [],
   "source": [
    "import os\n",
    "image_path = \"images_bn\"\n",
    "os.makedirs(image_path, exist_ok=True)"
   ]
  },
  {
   "cell_type": "code",
   "execution_count": 14,
   "metadata": {},
   "outputs": [],
   "source": [
    "import gc"
   ]
  },
  {
   "cell_type": "code",
   "execution_count": 15,
   "metadata": {},
   "outputs": [
    {
     "name": "stderr",
     "output_type": "stream",
     "text": [
      "Failed to detect the name of this notebook, you can set it manually with the WANDB_NOTEBOOK_NAME environment variable to enable code saving.\n",
      "\u001b[34m\u001b[1mwandb\u001b[0m: Currently logged in as: \u001b[33manony-mouse-53924265597001403\u001b[0m. Use \u001b[1m`wandb login --relogin`\u001b[0m to force relogin\n"
     ]
    },
    {
     "data": {
      "text/html": [
       "wandb version 0.16.3 is available!  To upgrade, please run:\n",
       " $ pip install wandb --upgrade"
      ],
      "text/plain": [
       "<IPython.core.display.HTML object>"
      ]
     },
     "metadata": {},
     "output_type": "display_data"
    },
    {
     "data": {
      "text/html": [
       "Tracking run with wandb version 0.16.1"
      ],
      "text/plain": [
       "<IPython.core.display.HTML object>"
      ]
     },
     "metadata": {},
     "output_type": "display_data"
    },
    {
     "data": {
      "text/html": [
       "Run data is saved locally in <code>/home/n.yakovlev/my_best_program/diplom_8sem/wandb/run-20240228_174038-uode2iyl</code>"
      ],
      "text/plain": [
       "<IPython.core.display.HTML object>"
      ]
     },
     "metadata": {},
     "output_type": "display_data"
    },
    {
     "data": {
      "text/html": [
       "Syncing run <strong><a href='https://wandb.ai/anony-mouse-53924265597001403/Effnet_Autoencoder/runs/uode2iyl?apiKey=167f63617ad99a247e6790d92d33ea27713a983e' target=\"_blank\">glad-cherry-18</a></strong> to <a href='https://wandb.ai/anony-mouse-53924265597001403/Effnet_Autoencoder?apiKey=167f63617ad99a247e6790d92d33ea27713a983e' target=\"_blank\">Weights & Biases</a> (<a href='https://wandb.me/run' target=\"_blank\">docs</a>)<br/>"
      ],
      "text/plain": [
       "<IPython.core.display.HTML object>"
      ]
     },
     "metadata": {},
     "output_type": "display_data"
    },
    {
     "data": {
      "text/html": [
       " View project at <a href='https://wandb.ai/anony-mouse-53924265597001403/Effnet_Autoencoder?apiKey=167f63617ad99a247e6790d92d33ea27713a983e' target=\"_blank\">https://wandb.ai/anony-mouse-53924265597001403/Effnet_Autoencoder?apiKey=167f63617ad99a247e6790d92d33ea27713a983e</a>"
      ],
      "text/plain": [
       "<IPython.core.display.HTML object>"
      ]
     },
     "metadata": {},
     "output_type": "display_data"
    },
    {
     "data": {
      "text/html": [
       " View run at <a href='https://wandb.ai/anony-mouse-53924265597001403/Effnet_Autoencoder/runs/uode2iyl?apiKey=167f63617ad99a247e6790d92d33ea27713a983e' target=\"_blank\">https://wandb.ai/anony-mouse-53924265597001403/Effnet_Autoencoder/runs/uode2iyl?apiKey=167f63617ad99a247e6790d92d33ea27713a983e</a>"
      ],
      "text/plain": [
       "<IPython.core.display.HTML object>"
      ]
     },
     "metadata": {},
     "output_type": "display_data"
    },
    {
     "data": {
      "text/html": [
       "Do NOT share these links with anyone. They can be used to claim your runs."
      ],
      "text/plain": [
       "<IPython.core.display.HTML object>"
      ]
     },
     "metadata": {},
     "output_type": "display_data"
    },
    {
     "name": "stderr",
     "output_type": "stream",
     "text": [
      "Epoch 1/60: 100%|██████████| 4000/4000 [03:33<00:00, 18.77img/s, loss (batch)=0.0217, lr=0.001]\n",
      "Epoch 1/60: 100%|██████████| 128/128 [00:10<00:00, 12.24img/s]\n",
      "Epoch 2/60: 100%|██████████| 4000/4000 [03:21<00:00, 19.89img/s, loss (batch)=0.0177, lr=0.001]\n",
      "Epoch 2/60: 100%|██████████| 128/128 [00:17<00:00,  7.26img/s]\n",
      "Epoch 3/60: 100%|██████████| 4000/4000 [03:08<00:00, 21.21img/s, loss (batch)=0.0178, lr=0.001]\n",
      "Epoch 3/60: 100%|██████████| 128/128 [00:08<00:00, 14.42img/s]\n",
      "Epoch 4/60: 100%|██████████| 4000/4000 [02:38<00:00, 25.16img/s, loss (batch)=0.0138, lr=0.001]\n",
      "Epoch 4/60: 100%|██████████| 128/128 [00:05<00:00, 23.62img/s]\n",
      "Epoch 5/60: 100%|██████████| 4000/4000 [03:17<00:00, 20.28img/s, loss (batch)=0.0153, lr=0.001]\n",
      "Epoch 5/60: 100%|██████████| 128/128 [00:06<00:00, 19.33img/s]\n",
      "Epoch 6/60: 100%|██████████| 4000/4000 [02:23<00:00, 27.89img/s, loss (batch)=0.0165, lr=0.001] \n",
      "Epoch 6/60: 100%|██████████| 128/128 [00:05<00:00, 21.54img/s]\n",
      "Epoch 7/60: 100%|██████████| 4000/4000 [02:36<00:00, 25.53img/s, loss (batch)=0.0151, lr=0.001] \n",
      "Epoch 7/60: 100%|██████████| 128/128 [00:06<00:00, 21.20img/s]\n",
      "Epoch 8/60: 100%|██████████| 4000/4000 [02:30<00:00, 26.54img/s, loss (batch)=0.016, lr=0.001] \n",
      "Epoch 8/60: 100%|██████████| 128/128 [00:11<00:00, 10.77img/s]\n",
      "Epoch 9/60: 100%|██████████| 4000/4000 [03:27<00:00, 19.25img/s, loss (batch)=0.0132, lr=0.001]\n",
      "Epoch 9/60: 100%|██████████| 128/128 [00:03<00:00, 40.24img/s]\n",
      "Epoch 10/60: 100%|██████████| 4000/4000 [03:00<00:00, 22.13img/s, loss (batch)=0.0165, lr=0.001]\n",
      "Epoch 10/60: 100%|██████████| 128/128 [00:03<00:00, 39.15img/s]\n",
      "Epoch 11/60: 100%|██████████| 4000/4000 [02:40<00:00, 24.92img/s, loss (batch)=0.0132, lr=0.0009]\n",
      "Epoch 11/60: 100%|██████████| 128/128 [00:03<00:00, 38.19img/s]\n",
      "Epoch 12/60: 100%|██████████| 4000/4000 [02:31<00:00, 26.46img/s, loss (batch)=0.0186, lr=0.00081]\n",
      "Epoch 12/60: 100%|██████████| 128/128 [00:04<00:00, 31.11img/s]\n",
      "Epoch 13/60: 100%|██████████| 4000/4000 [03:16<00:00, 20.35img/s, loss (batch)=0.0177, lr=0.000729]\n",
      "Epoch 13/60: 100%|██████████| 128/128 [00:08<00:00, 14.63img/s]\n",
      "Epoch 14/60: 100%|██████████| 4000/4000 [03:43<00:00, 17.91img/s, loss (batch)=0.0156, lr=0.000656]\n",
      "Epoch 14/60: 100%|██████████| 128/128 [00:05<00:00, 23.82img/s]\n",
      "Epoch 15/60: 100%|██████████| 4000/4000 [02:44<00:00, 24.33img/s, loss (batch)=0.0185, lr=0.00059]\n",
      "Epoch 15/60: 100%|██████████| 128/128 [00:04<00:00, 28.32img/s]\n",
      "Epoch 16/60: 100%|██████████| 4000/4000 [02:37<00:00, 25.43img/s, loss (batch)=0.0112, lr=0.000531]\n",
      "Epoch 16/60: 100%|██████████| 128/128 [00:09<00:00, 13.73img/s]\n",
      "Epoch 17/60: 100%|██████████| 4000/4000 [03:33<00:00, 18.69img/s, loss (batch)=0.01, lr=0.000478]   \n",
      "Epoch 17/60: 100%|██████████| 128/128 [00:03<00:00, 33.50img/s]\n",
      "Epoch 18/60: 100%|██████████| 4000/4000 [02:43<00:00, 24.41img/s, loss (batch)=0.0137, lr=0.00043] \n",
      "Epoch 18/60: 100%|██████████| 128/128 [00:04<00:00, 29.09img/s]\n",
      "Epoch 19/60: 100%|██████████| 4000/4000 [02:43<00:00, 24.49img/s, loss (batch)=0.0146, lr=0.000387] \n",
      "Epoch 19/60: 100%|██████████| 128/128 [00:06<00:00, 20.28img/s]\n",
      "Epoch 20/60: 100%|██████████| 4000/4000 [03:39<00:00, 18.26img/s, loss (batch)=0.0163, lr=0.000349]\n",
      "Epoch 20/60: 100%|██████████| 128/128 [00:09<00:00, 13.00img/s]\n",
      "Epoch 21/60: 100%|██████████| 4000/4000 [02:57<00:00, 22.56img/s, loss (batch)=0.0119, lr=0.000314] \n",
      "Epoch 21/60: 100%|██████████| 128/128 [00:03<00:00, 32.21img/s]\n",
      "Epoch 22/60: 100%|██████████| 4000/4000 [02:58<00:00, 22.38img/s, loss (batch)=0.0139, lr=0.000282]\n",
      "Epoch 22/60: 100%|██████████| 128/128 [00:08<00:00, 14.61img/s]\n",
      "Epoch 23/60: 100%|██████████| 4000/4000 [04:07<00:00, 16.17img/s, loss (batch)=0.0133, lr=0.000254] \n",
      "Epoch 23/60: 100%|██████████| 128/128 [00:04<00:00, 31.34img/s]\n",
      "Epoch 24/60: 100%|██████████| 4000/4000 [02:38<00:00, 25.29img/s, loss (batch)=0.0133, lr=0.000229] \n",
      "Epoch 24/60: 100%|██████████| 128/128 [00:06<00:00, 19.59img/s]\n",
      "Epoch 25/60: 100%|██████████| 4000/4000 [03:28<00:00, 19.16img/s, loss (batch)=0.01, lr=0.000206]   \n",
      "Epoch 25/60: 100%|██████████| 128/128 [00:05<00:00, 25.08img/s]\n",
      "Epoch 26/60: 100%|██████████| 4000/4000 [03:18<00:00, 20.20img/s, loss (batch)=0.0157, lr=0.000185] \n",
      "Epoch 26/60: 100%|██████████| 128/128 [00:06<00:00, 19.23img/s]\n",
      "Epoch 27/60: 100%|██████████| 4000/4000 [02:55<00:00, 22.82img/s, loss (batch)=0.0101, lr=0.000167] \n",
      "Epoch 27/60: 100%|██████████| 128/128 [00:04<00:00, 27.00img/s]\n",
      "Epoch 28/60: 100%|██████████| 4000/4000 [03:22<00:00, 19.73img/s, loss (batch)=0.0127, lr=0.00015] \n",
      "Epoch 28/60: 100%|██████████| 128/128 [00:03<00:00, 32.04img/s]\n",
      "Epoch 29/60: 100%|██████████| 4000/4000 [03:29<00:00, 19.06img/s, loss (batch)=0.0117, lr=0.000135]\n",
      "Epoch 29/60: 100%|██████████| 128/128 [00:06<00:00, 19.45img/s]\n",
      "Epoch 30/60: 100%|██████████| 4000/4000 [04:01<00:00, 16.56img/s, loss (batch)=0.0127, lr=0.000122]\n",
      "Epoch 30/60: 100%|██████████| 128/128 [00:05<00:00, 22.43img/s]\n",
      "Epoch 31/60: 100%|██████████| 4000/4000 [03:05<00:00, 21.62img/s, loss (batch)=0.0158, lr=0.000109] \n",
      "Epoch 31/60: 100%|██████████| 128/128 [00:07<00:00, 17.49img/s]\n",
      "Epoch 32/60: 100%|██████████| 4000/4000 [03:39<00:00, 18.21img/s, loss (batch)=0.0136, lr=9.85e-5] \n",
      "Epoch 32/60: 100%|██████████| 128/128 [00:05<00:00, 24.05img/s]\n",
      "Epoch 33/60: 100%|██████████| 4000/4000 [03:18<00:00, 20.18img/s, loss (batch)=0.0111, lr=8.86e-5] \n",
      "Epoch 33/60: 100%|██████████| 128/128 [00:13<00:00,  9.15img/s]\n",
      "Epoch 34/60: 100%|██████████| 4000/4000 [03:19<00:00, 20.10img/s, loss (batch)=0.0147, lr=7.98e-5] \n",
      "Epoch 34/60: 100%|██████████| 128/128 [00:04<00:00, 27.65img/s]\n",
      "Epoch 35/60: 100%|██████████| 4000/4000 [03:15<00:00, 20.48img/s, loss (batch)=0.0128, lr=7.18e-5] \n",
      "Epoch 35/60: 100%|██████████| 128/128 [00:07<00:00, 18.13img/s]\n",
      "Epoch 36/60: 100%|██████████| 4000/4000 [02:49<00:00, 23.58img/s, loss (batch)=0.0119, lr=6.46e-5]\n",
      "Epoch 36/60: 100%|██████████| 128/128 [00:04<00:00, 29.33img/s]\n",
      "Epoch 37/60: 100%|██████████| 4000/4000 [03:16<00:00, 20.40img/s, loss (batch)=0.0132, lr=5.81e-5] \n",
      "Epoch 37/60: 100%|██████████| 128/128 [00:05<00:00, 25.57img/s]\n",
      "Epoch 38/60: 100%|██████████| 4000/4000 [03:17<00:00, 20.25img/s, loss (batch)=0.0188, lr=5.23e-5]\n",
      "Epoch 38/60: 100%|██████████| 128/128 [00:04<00:00, 26.34img/s]\n",
      "Epoch 39/60: 100%|██████████| 4000/4000 [02:58<00:00, 22.44img/s, loss (batch)=0.0112, lr=4.71e-5] \n",
      "Epoch 39/60: 100%|██████████| 128/128 [00:06<00:00, 19.67img/s]\n",
      "Epoch 40/60: 100%|██████████| 4000/4000 [03:44<00:00, 17.78img/s, loss (batch)=0.0143, lr=4.24e-5] \n",
      "Epoch 40/60: 100%|██████████| 128/128 [00:07<00:00, 16.31img/s]\n",
      "Epoch 41/60: 100%|██████████| 4000/4000 [03:21<00:00, 19.85img/s, loss (batch)=0.0103, lr=3.82e-5] \n",
      "Epoch 41/60: 100%|██████████| 128/128 [00:18<00:00,  7.02img/s]\n",
      "Epoch 42/60: 100%|██████████| 4000/4000 [03:31<00:00, 18.91img/s, loss (batch)=0.0152, lr=3.43e-5]\n",
      "Epoch 42/60: 100%|██████████| 128/128 [00:04<00:00, 25.63img/s]\n",
      "Epoch 43/60: 100%|██████████| 4000/4000 [03:31<00:00, 18.88img/s, loss (batch)=0.0157, lr=3.09e-5] \n",
      "Epoch 43/60: 100%|██████████| 128/128 [00:04<00:00, 26.16img/s]\n",
      "Epoch 44/60: 100%|██████████| 4000/4000 [03:41<00:00, 18.09img/s, loss (batch)=0.0132, lr=2.78e-5] \n",
      "Epoch 44/60: 100%|██████████| 128/128 [00:18<00:00,  6.92img/s]\n",
      "Epoch 45/60: 100%|██████████| 4000/4000 [03:22<00:00, 19.72img/s, loss (batch)=0.0141, lr=2.5e-5] \n",
      "Epoch 45/60: 100%|██████████| 128/128 [00:04<00:00, 25.84img/s]\n",
      "Epoch 46/60: 100%|██████████| 4000/4000 [03:15<00:00, 20.42img/s, loss (batch)=0.0175, lr=2.25e-5] \n",
      "Epoch 46/60: 100%|██████████| 128/128 [00:07<00:00, 16.19img/s]\n",
      "Epoch 47/60: 100%|██████████| 4000/4000 [03:38<00:00, 18.34img/s, loss (batch)=0.0125, lr=2.03e-5] \n",
      "Epoch 47/60: 100%|██████████| 128/128 [00:07<00:00, 16.99img/s]\n",
      "Epoch 48/60: 100%|██████████| 4000/4000 [03:09<00:00, 21.07img/s, loss (batch)=0.0128, lr=1.82e-5] \n",
      "Epoch 48/60: 100%|██████████| 128/128 [00:05<00:00, 22.56img/s]\n",
      "Epoch 49/60: 100%|██████████| 4000/4000 [04:06<00:00, 16.24img/s, loss (batch)=0.0183, lr=1.64e-5] \n",
      "Epoch 49/60: 100%|██████████| 128/128 [00:06<00:00, 19.18img/s]\n",
      "Epoch 50/60: 100%|██████████| 4000/4000 [03:36<00:00, 18.45img/s, loss (batch)=0.0167, lr=1.48e-5]\n",
      "Epoch 50/60: 100%|██████████| 128/128 [00:05<00:00, 24.23img/s]\n",
      "Epoch 51/60: 100%|██████████| 4000/4000 [03:21<00:00, 19.88img/s, loss (batch)=0.0114, lr=1.33e-5]\n",
      "Epoch 51/60: 100%|██████████| 128/128 [00:07<00:00, 16.20img/s]\n",
      "Epoch 52/60: 100%|██████████| 4000/4000 [03:28<00:00, 19.19img/s, loss (batch)=0.0122, lr=1.2e-5] \n",
      "Epoch 52/60: 100%|██████████| 128/128 [00:05<00:00, 21.60img/s]\n",
      "Epoch 53/60: 100%|██████████| 4000/4000 [02:49<00:00, 23.61img/s, loss (batch)=0.0155, lr=1.08e-5]\n",
      "Epoch 53/60: 100%|██████████| 128/128 [00:08<00:00, 14.95img/s]\n",
      "Epoch 54/60: 100%|██████████| 4000/4000 [03:27<00:00, 19.32img/s, loss (batch)=0.0101, lr=9.7e-6] \n",
      "Epoch 54/60: 100%|██████████| 128/128 [00:06<00:00, 20.92img/s]\n",
      "Epoch 55/60: 100%|██████████| 4000/4000 [02:49<00:00, 23.60img/s, loss (batch)=0.0135, lr=8.73e-6] \n",
      "Epoch 55/60: 100%|██████████| 128/128 [00:07<00:00, 16.38img/s]\n",
      "Epoch 56/60: 100%|██████████| 4000/4000 [03:04<00:00, 21.67img/s, loss (batch)=0.0143, lr=7.86e-6]\n",
      "Epoch 56/60: 100%|██████████| 128/128 [00:08<00:00, 14.90img/s]\n",
      "Epoch 57/60: 100%|██████████| 4000/4000 [03:44<00:00, 17.86img/s, loss (batch)=0.0151, lr=7.07e-6] \n",
      "Epoch 57/60: 100%|██████████| 128/128 [00:14<00:00,  8.96img/s]\n",
      "Epoch 58/60: 100%|██████████| 4000/4000 [03:02<00:00, 21.94img/s, loss (batch)=0.0132, lr=6.36e-6] \n",
      "Epoch 58/60: 100%|██████████| 128/128 [00:08<00:00, 15.80img/s]\n",
      "Epoch 59/60: 100%|██████████| 4000/4000 [02:49<00:00, 23.55img/s, loss (batch)=0.0126, lr=5.73e-6] \n",
      "Epoch 59/60: 100%|██████████| 128/128 [00:09<00:00, 13.04img/s]\n",
      "Epoch 60/60: 100%|██████████| 4000/4000 [03:13<00:00, 20.68img/s, loss (batch)=0.013, lr=5.15e-6]  \n",
      "Epoch 60/60: 100%|██████████| 128/128 [00:05<00:00, 21.60img/s]\n"
     ]
    },
    {
     "data": {
      "text/plain": [
       "<Figure size 640x480 with 0 Axes>"
      ]
     },
     "metadata": {},
     "output_type": "display_data"
    }
   ],
   "source": [
    "# (Initialize logging)\n",
    "experiment = wandb.init(project='Effnet_Autoencoder', resume='allow', anonymous='must')\n",
    "experiment.config.update(\n",
    "    dict(epochs=epochs, batch_size=batch_size, learning_rate=learning_rate,\n",
    "        save_checkpoint=save_checkpoint)\n",
    ")\n",
    "now = datetime.now()\n",
    "\n",
    "logging.info(f'''Starting training:\n",
    "    Epochs:          {epochs}\n",
    "    Batch size:      {batch_size}\n",
    "    Learning rate:   {learning_rate}\n",
    "    Checkpoints:     {save_checkpoint}\n",
    "    Device:          {device.type}\n",
    "    weight_decay:    {weight_decay}\n",
    "''')\n",
    "\n",
    "# 4. Set up the optimizer, the loss, the learning rate scheduler and the loss scaling for AMP\n",
    "optimizer = optim.Adam(model.parameters(), lr=learning_rate, weight_decay=weight_decay, foreach=False)\n",
    "criterion = nn.MSELoss()\n",
    "global_step = 0\n",
    "valid_step = 0\n",
    "scheduler = None\n",
    "# 5. Begin training\n",
    "for epoch in range(1, epochs + 1):\n",
    "    if epoch >= epoch_to_start_sched:\n",
    "        if epoch == epoch_to_start_sched:\n",
    "            scheduler = torch.optim.lr_scheduler.ExponentialLR(optimizer, gamma=0.9)\n",
    "        else:\n",
    "            if scheduler is None:\n",
    "                scheduler = torch.optim.lr_scheduler.ExponentialLR(optimizer, gamma=0.9)\n",
    "            scheduler.step()\n",
    "    model.train()\n",
    "    epoch_loss = 0\n",
    "    with tqdm(total=patch_on_epoch, desc=f'Epoch {epoch}/{epochs}', unit='img') as pbar:\n",
    "        for batch in train_loader:\n",
    "            images, true_masks = batch\n",
    "            \"\"\"\n",
    "            assert images.shape[1] == model.n_channels, \\\n",
    "                f'Network has been defined with {model.n_channels} input channels, ' \\\n",
    "                f'but loaded images have {images.shape[1]} channels. Please check that ' \\\n",
    "                'the images are loaded correctly.'\n",
    "            \"\"\"\n",
    "            images = images.to(device=device, dtype=torch.float32, memory_format=torch.channels_last)\n",
    "            true_masks = true_masks.to(device=device)\n",
    "\n",
    "            masks_pred = model(images)\n",
    "            loss = criterion(masks_pred, true_masks)\n",
    "            optimizer.zero_grad()\n",
    "            loss.backward()\n",
    "            optimizer.step()\n",
    "            torch.nn.utils.clip_grad_norm_(model.parameters(), clipping_value)\n",
    "            pbar.update(images.shape[0])\n",
    "            global_step += 1\n",
    "            epoch_loss += loss.item()\n",
    "            experiment.log({\n",
    "                'train loss': loss.item(),\n",
    "                'step': global_step,\n",
    "                'epoch': epoch\n",
    "            })\n",
    "            pbar.set_postfix(**{'loss (batch)': loss.item(), 'lr': optimizer.param_groups[0][\"lr\"]})\n",
    "            # Evaluation round\n",
    "            del masks_pred, images, loss\n",
    "            gc.collect()\n",
    "            torch.cuda.empty_cache()\n",
    "            experiment.log({\n",
    "                'learning rate': optimizer.param_groups[0]['lr'],\n",
    "                'step': global_step,\n",
    "                'epoch': epoch\n",
    "            })\n",
    "    \n",
    "    model.eval()\n",
    "    epoch_loss = 0\n",
    "    with tqdm(total=patch_on_epoch_valid, desc=f'Epoch {epoch}/{epochs}', unit='img') as pbar:\n",
    "        display_images = True\n",
    "        for batch in valid_loader:\n",
    "            images, true_masks = batch\n",
    "            \"\"\"\n",
    "            assert images.shape[1] == model.n_channels, \\\n",
    "                f'Network has been defined with {model.n_channels} input channels, ' \\\n",
    "                f'but loaded images have {images.shape[1]} channels. Please check that ' \\\n",
    "                'the images are loaded correctly.'\n",
    "            \"\"\"\n",
    "            images = images.to(device=device, dtype=torch.float32, memory_format=torch.channels_last)\n",
    "            true_masks = true_masks.to(device=device)\n",
    "\n",
    "            masks_pred = model(images)\n",
    "            loss = criterion(masks_pred, true_masks)\n",
    "\n",
    "            pbar.update(images.shape[0])\n",
    "            valid_step += 1\n",
    "            epoch_loss += loss.item()\n",
    "            experiment.log({\n",
    "                'valid step loss': loss.item(),\n",
    "                'valid_step': valid_step,\n",
    "                'epoch': epoch\n",
    "            })\n",
    "            del loss\n",
    "            gc.collect()\n",
    "            torch.cuda.empty_cache()\n",
    "            if display_images:\n",
    "                display_images = False\n",
    "                plt.subplots_adjust(hspace=3, wspace=3)\n",
    "                fig, ax = plt.subplots(nrows=2, ncols=4, figsize=(8, 4))\n",
    "                plt.subplots_adjust(hspace=0.03, wspace=0.03)\n",
    "                for i, row in enumerate(ax):\n",
    "                    for j, col in enumerate(row):\n",
    "                        # show image\n",
    "                        col.set_axis_off()\n",
    "                        if j % 2 == 0:\n",
    "                            col.imshow(images[i * 2 + j // 2].cpu().permute(1, 2, 0).numpy())\n",
    "                        # show pred\n",
    "                        if j % 2 == 1:\n",
    "                            col.imshow(masks_pred[i * 2 + j // 2].cpu().detach().permute(1, 2, 0).numpy())\n",
    "                plt.savefig(f'{image_path}/epoches_{epoch}.png')\n",
    "                plt.close()\n",
    "            del masks_pred, images\n",
    "            gc.collect()\n",
    "            torch.cuda.empty_cache()\n",
    "        experiment.log({\n",
    "            'valid epoch loss': epoch_loss,\n",
    "            'valid_step': valid_step,\n",
    "            \"epoch\": epoch\n",
    "        })\n",
    "        valid_step += 1\n",
    "\n",
    "    if save_checkpoint and epoch > 7 and epoch % 2 == 0:\n",
    "        Path(dir_checkpoint).mkdir(parents=True, exist_ok=True)\n",
    "        state_dict = model.state_dict()\n",
    "        torch.save(state_dict, str(dir_checkpoint / 'checkpoint_epoch{}.pth'.format(epoch)))\n",
    "        logging.info(f'Checkpoint {epoch} saved!')"
   ]
  }
 ],
 "metadata": {
  "kernelspec": {
   "display_name": "tf",
   "language": "python",
   "name": "python3"
  },
  "language_info": {
   "codemirror_mode": {
    "name": "ipython",
    "version": 3
   },
   "file_extension": ".py",
   "mimetype": "text/x-python",
   "name": "python",
   "nbconvert_exporter": "python",
   "pygments_lexer": "ipython3",
   "version": "3.11.6"
  },
  "orig_nbformat": 4
 },
 "nbformat": 4,
 "nbformat_minor": 2
}
